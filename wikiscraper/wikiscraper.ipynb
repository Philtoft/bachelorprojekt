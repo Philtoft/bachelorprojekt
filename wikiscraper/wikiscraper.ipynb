{
 "cells": [
  {
   "cell_type": "markdown",
   "metadata": {},
   "source": [
    "# 1. Scrape pages"
   ]
  },
  {
   "cell_type": "code",
   "execution_count": 47,
   "metadata": {},
   "outputs": [
    {
     "name": "stdout",
     "output_type": "stream",
     "text": [
      "huggingface/tokenizers: The current process just got forked, after parallelism has already been used. Disabling parallelism to avoid deadlocks...\n",
      "To disable this warning, you can either:\n",
      "\t- Avoid using `tokenizers` before the fork if possible\n",
      "\t- Explicitly set the environment variable TOKENIZERS_PARALLELISM=(true | false)\n"
     ]
    }
   ],
   "source": [
    "!pip install wikipedia -q"
   ]
  },
  {
   "cell_type": "code",
   "execution_count": 105,
   "metadata": {},
   "outputs": [
    {
     "name": "stdout",
     "output_type": "stream",
     "text": [
      "The autoreload extension is already loaded. To reload it, use:\n",
      "  %reload_ext autoreload\n",
      "Ancient_Egypt\n",
      "Artificial Intelligence\n",
      "Deep Learning\n",
      "Natural Language Processing\n",
      "Data Science\n",
      "['Ancient Egypt was a civilization in Northeast Africa situated in the Nile Valley. Ancient Egyptian civilization followed prehistoric Egypt and coalesced around 3100 BC (according to conventional Egyptian chronology) with the political unification of Upper and Lower Egypt under Menes (often identified with Narmer). The history of ancient Egypt occurred as a series of stable kingdoms, separated by periods of relative instability known as Intermediate Periods: the Old Kingdom of the Early Bronze Age, the Middl', 'Artificial intelligence (AI) is intelligence—perceiving, synthesizing, and inferring information—demonstrated by machines, as opposed to intelligence displayed by non-human animals and humans. Example tasks in which this is done include speech recognition, computer vision, translation between (natural) languages, as well as other mappings of inputs.\\nAI applications include advanced web search engines (e.g., Google Search), recommendation systems (used by YouTube, Amazon, and Netflix), understanding human sp', 'Deep learning is part of a broader family of machine learning methods based on artificial neural networks with representation learning. Learning can be supervised, semi-supervised or unsupervised.Deep-learning architectures such as deep neural networks, deep belief networks, deep reinforcement learning, recurrent neural networks, convolutional neural networks and transformers have been applied to fields including computer vision, speech recognition, natural language processing, machine translation, bioinfor', 'Natural language processing (NLP) is an interdisciplinary subfield of linguistics, computer science, and artificial intelligence concerned with the interactions between computers and human language, in particular how to program computers to process and analyze large amounts of natural language data.  The goal is a computer capable of \"understanding\" the contents of documents, including the contextual nuances of the language within them. The technology can then accurately extract information and insights con', 'Data science is an interdisciplinary academic field  that uses statistics, scientific computing, scientific methods, processes, algorithms and systems to extract or extrapolate knowledge and insights from noisy, structured, and unstructured data.Data science also integrates domain knowledge from the underlying application domain (e.g., natural sciences, information technology, and medicine). Data science is multifaceted and can be described as a science, a research paradigm, a research method, a discipline,']\n"
     ]
    }
   ],
   "source": [
    "%load_ext autoreload\n",
    "%autoreload 2\n",
    "\n",
    "import wikipedia\n",
    "import json\n",
    "\n",
    "topics = []\n",
    "\n",
    "# Open file\n",
    "with open(\"wiki-list.json\") as topic_list:\n",
    "    topics = json.load(topic_list)[\"Topics\"][:5]\n",
    "\n",
    "# Get wikipedia page\n",
    "# Todo: make it loop through pages\n",
    "# Sets the max length to 512 characters\n",
    "contexts = []\n",
    "\n",
    "for topic in topics:\n",
    "    page = wikipedia.page(topic)\n",
    "    contexts.append(page.content[:512])\n",
    "\n",
    "print(contexts)"
   ]
  },
  {
   "attachments": {},
   "cell_type": "markdown",
   "metadata": {},
   "source": [
    "# 2. Generate Questions"
   ]
  },
  {
   "cell_type": "code",
   "execution_count": 66,
   "metadata": {},
   "outputs": [
    {
     "name": "stdout",
     "output_type": "stream",
     "text": [
      "Note: you may need to restart the kernel to use updated packages.\n",
      "Note: you may need to restart the kernel to use updated packages.\n"
     ]
    }
   ],
   "source": [
    "%pip install transformers -q\n",
    "%pip install datasets -q"
   ]
  },
  {
   "attachments": {},
   "cell_type": "markdown",
   "metadata": {},
   "source": [
    "Imports the QG module"
   ]
  },
  {
   "cell_type": "code",
   "execution_count": 67,
   "metadata": {},
   "outputs": [],
   "source": [
    "import sys\n",
    "import os\n",
    "\n",
    "# Get the parent directory\n",
    "notebook_path = os.path.abspath(\"wikiscraper.ipynb\")  # Replace \"my_notebook.ipynb\" with the name of your notebook\n",
    "parent_dir = os.path.dirname(os.path.dirname(notebook_path))\n",
    "\n",
    "# Add the parent directory to sys.path\n",
    "sys.path.insert(0, parent_dir)"
   ]
  },
  {
   "cell_type": "code",
   "execution_count": 109,
   "metadata": {},
   "outputs": [
    {
     "name": "stdout",
     "output_type": "stream",
     "text": [
      "The autoreload extension is already loaded. To reload it, use:\n",
      "  %reload_ext autoreload\n",
      "[{'context': 'Ancient Egypt was a civilization in Northeast Africa situated in the Nile Valley. Ancient Egyptian civilization followed prehistoric Egypt and coalesced around 3100 BC (according to conventional Egyptian chronology) with the political unification of Upper and Lower Egypt under Menes (often identified with Narmer). The history of ancient Egypt occurred as a series of stable kingdoms, separated by periods of relative instability known as Intermediate Periods: the Old Kingdom of the Early Bronze Age, the Middl', 'questions': ['Where was Ancient Egypt located?', 'When did Ancient Egypt civilization coalesce?', 'Who was often identified with Narmer?', 'What are the periods of relative instability known as?']}, {'context': 'Artificial intelligence (AI) is intelligence—perceiving, synthesizing, and inferring information—demonstrated by machines, as opposed to intelligence displayed by non-human animals and humans. Example tasks in which this is done include speech recognition, computer vision, translation between (natural) languages, as well as other mappings of inputs.\\nAI applications include advanced web search engines (e.g., Google Search), recommendation systems (used by YouTube, Amazon, and Netflix), understanding human sp', 'questions': ['What does AI stand for?', 'What are examples of tasks in which AI is displayed by machines?', 'Google Search is an example of what type of AI?']}, {'context': 'Deep learning is part of a broader family of machine learning methods based on artificial neural networks with representation learning. Learning can be supervised, semi-supervised or unsupervised.Deep-learning architectures such as deep neural networks, deep belief networks, deep reinforcement learning, recurrent neural networks, convolutional neural networks and transformers have been applied to fields including computer vision, speech recognition, natural language processing, machine translation, bioinfor', 'questions': ['Deep learning is part of what family of machine learning methods?', 'Deep learning can be supervised, semi-supervised or what?', 'What has deep learning architectures been applied to?']}, {'context': 'Natural language processing (NLP) is an interdisciplinary subfield of linguistics, computer science, and artificial intelligence concerned with the interactions between computers and human language, in particular how to program computers to process and analyze large amounts of natural language data.  The goal is a computer capable of \"understanding\" the contents of documents, including the contextual nuances of the language within them. The technology can then accurately extract information and insights con', 'questions': ['What subfield of linguistics, computer science, and artificial intelligence is concerned with the interactions between computers and human language?', 'What is the goal of a computer capable of understanding the contents of documents?', 'The technology can then accurately extract what?']}, {'context': 'Data science is an interdisciplinary academic field  that uses statistics, scientific computing, scientific methods, processes, algorithms and systems to extract or extrapolate knowledge and insights from noisy, structured, and unstructured data.Data science also integrates domain knowledge from the underlying application domain (e.g., natural sciences, information technology, and medicine). Data science is multifaceted and can be described as a science, a research paradigm, a research method, a discipline,', 'questions': ['Data science uses what to extract or extrapolate knowledge and insights from noisy, structured, and unstructured data?', 'Data science integrates domain knowledge from the underlying application domain?']}]\n"
     ]
    }
   ],
   "source": [
    "%load_ext autoreload\n",
    "%autoreload 2\n",
    "\n",
    "from models.qg import QG\n",
    "\n",
    "# context = \"Python is an interpreted, high-level, general-purpose programming language. Created by Guido van Rossum and first released in 1991, Python's design philosophy emphasizes code readability with its notable use of significant whitespace.\"\n",
    "\n",
    "qg = QG(model=\"valhalla/t5-base-e2e-qg\", tokenizer=\"t5-base\")\n",
    "# qg1 = QG(\"the-coorporation/t5-qgar\", \"t5-base\")\n",
    "\n",
    "contexts_questions = []\n",
    "\n",
    "for context in contexts:\n",
    "    context_questions = qg(context)\n",
    "    contexts_questions.append(context_questions)\n",
    "\n",
    "print(contexts_questions)"
   ]
  },
  {
   "attachments": {},
   "cell_type": "markdown",
   "metadata": {},
   "source": [
    "# 4. Question Answering"
   ]
  },
  {
   "cell_type": "code",
   "execution_count": 125,
   "metadata": {},
   "outputs": [
    {
     "name": "stdout",
     "output_type": "stream",
     "text": [
      "The autoreload extension is already loaded. To reload it, use:\n",
      "  %reload_ext autoreload\n",
      "Where was Ancient Egypt located?\n",
      "When did Ancient Egypt civilization coalesce?\n",
      "Who was often identified with Narmer?\n",
      "What are the periods of relative instability known as?\n",
      "What does AI stand for?\n",
      "What are examples of tasks in which AI is displayed by machines?\n",
      "Google Search is an example of what type of AI?\n",
      "Deep learning is part of what family of machine learning methods?\n",
      "Deep learning can be supervised, semi-supervised or what?\n",
      "What has deep learning architectures been applied to?\n",
      "What subfield of linguistics, computer science, and artificial intelligence is concerned with the interactions between computers and human language?\n",
      "What is the goal of a computer capable of understanding the contents of documents?\n",
      "The technology can then accurately extract what?\n",
      "Data science uses what to extract or extrapolate knowledge and insights from noisy, structured, and unstructured data?\n",
      "Data science integrates domain knowledge from the underlying application domain?\n",
      "{'context': 'Ancient Egypt was a civilization in Northeast Africa situated in the Nile Valley. Ancient Egyptian civilization followed prehistoric Egypt and coalesced around 3100 BC (according to conventional Egyptian chronology) with the political unification of Upper and Lower Egypt under Menes (often identified with Narmer). The history of ancient Egypt occurred as a series of stable kingdoms, separated by periods of relative instability known as Intermediate Periods: the Old Kingdom of the Early Bronze Age, the Middl', 'questions': [{'question': 'Where was Ancient Egypt located?', 'answer': 'Northeast Africa situated in the Nile Valley', 'score': 0.38644278049468994}, {'question': 'When did Ancient Egypt civilization coalesce?', 'answer': '3100 BC', 'score': 0.6627081632614136}, {'question': 'Who was often identified with Narmer?', 'answer': 'Menes', 'score': 0.998903214931488}, {'question': 'What are the periods of relative instability known as?', 'answer': 'Intermediate Periods', 'score': 0.9953044652938843}]}\n",
      "{'context': 'Artificial intelligence (AI) is intelligence—perceiving, synthesizing, and inferring information—demonstrated by machines, as opposed to intelligence displayed by non-human animals and humans. Example tasks in which this is done include speech recognition, computer vision, translation between (natural) languages, as well as other mappings of inputs.\\nAI applications include advanced web search engines (e.g., Google Search), recommendation systems (used by YouTube, Amazon, and Netflix), understanding human sp', 'questions': [{'question': 'What does AI stand for?', 'answer': 'Artificial intelligence', 'score': 0.9967987537384033}, {'question': 'What are examples of tasks in which AI is displayed by machines?', 'answer': 'speech recognition, computer vision, translation between (natural) languages', 'score': 0.5325844287872314}, {'question': 'Google Search is an example of what type of AI?', 'answer': 'advanced web search engines', 'score': 0.594890296459198}]}\n",
      "{'context': 'Deep learning is part of a broader family of machine learning methods based on artificial neural networks with representation learning. Learning can be supervised, semi-supervised or unsupervised.Deep-learning architectures such as deep neural networks, deep belief networks, deep reinforcement learning, recurrent neural networks, convolutional neural networks and transformers have been applied to fields including computer vision, speech recognition, natural language processing, machine translation, bioinfor', 'questions': [{'question': 'Deep learning is part of what family of machine learning methods?', 'answer': 'artificial neural networks with representation learning', 'score': 0.3274032175540924}, {'question': 'Deep learning can be supervised, semi-supervised or what?', 'answer': 'unsupervised', 'score': 0.9970846176147461}, {'question': 'What has deep learning architectures been applied to?', 'answer': 'computer vision', 'score': 0.15098711848258972}]}\n",
      "{'context': 'Natural language processing (NLP) is an interdisciplinary subfield of linguistics, computer science, and artificial intelligence concerned with the interactions between computers and human language, in particular how to program computers to process and analyze large amounts of natural language data.  The goal is a computer capable of \"understanding\" the contents of documents, including the contextual nuances of the language within them. The technology can then accurately extract information and insights con', 'questions': [{'question': 'What subfield of linguistics, computer science, and artificial intelligence is concerned with the interactions between computers and human language?', 'answer': 'Natural language processing', 'score': 0.8277781009674072}, {'question': 'What is the goal of a computer capable of understanding the contents of documents?', 'answer': 'Natural language processing', 'score': 0.9660243391990662}, {'question': 'The technology can then accurately extract what?', 'answer': 'information and insights', 'score': 0.8851405382156372}]}\n",
      "{'context': 'Data science is an interdisciplinary academic field  that uses statistics, scientific computing, scientific methods, processes, algorithms and systems to extract or extrapolate knowledge and insights from noisy, structured, and unstructured data.Data science also integrates domain knowledge from the underlying application domain (e.g., natural sciences, information technology, and medicine). Data science is multifaceted and can be described as a science, a research paradigm, a research method, a discipline,', 'questions': [{'question': 'Data science uses what to extract or extrapolate knowledge and insights from noisy, structured, and unstructured data?', 'answer': 'algorithms and systems', 'score': 0.42878037691116333}, {'question': 'Data science integrates domain knowledge from the underlying application domain?', 'answer': 'Data science also integrates domain knowledge from the underlying application domain', 'score': 0.028403390198946}]}\n"
     ]
    }
   ],
   "source": [
    "%load_ext autoreload\n",
    "\n",
    "%autoreload 2\n",
    "\n",
    "from transformers import pipeline\n",
    "question_answerer = pipeline(\"question-answering\", model='distilbert-base-cased-distilled-squad')\n",
    "\n",
    "question_context_answers = []\n",
    "\n",
    "for context_questions in contexts_questions:\n",
    "    # result = question_answerer(question=question, context=context)\n",
    "    # question_answers.append({ \"question\": question, \"answer\": result[\"answer\"], \"score\": result[\"score\"] })\n",
    "    question_answers = []\n",
    "    context = context_questions['context']\n",
    "\n",
    "    for question in context_questions['questions']:\n",
    "        print(question)\n",
    "        result = question_answerer(question=question, context=context)\n",
    "        question_answers.append({ \"question\": question, \"answer\": result[\"answer\"], \"score\": result[\"score\"] })\n",
    "    result = {\n",
    "        \"context\": context,\n",
    "        \"questions\": question_answers\n",
    "    }\n",
    "    question_context_answers.append(result)\n",
    "\n",
    "for question_context_answer in question_context_answers:\n",
    "    print(question_context_answer)"
   ]
  },
  {
   "attachments": {},
   "cell_type": "markdown",
   "metadata": {},
   "source": [
    "# 3. Filter Questions"
   ]
  },
  {
   "cell_type": "code",
   "execution_count": null,
   "metadata": {},
   "outputs": [],
   "source": []
  },
  {
   "cell_type": "markdown",
   "metadata": {},
   "source": []
  }
 ],
 "metadata": {
  "kernelspec": {
   "display_name": "hg_training",
   "language": "python",
   "name": "python3"
  },
  "language_info": {
   "codemirror_mode": {
    "name": "ipython",
    "version": 3
   },
   "file_extension": ".py",
   "mimetype": "text/x-python",
   "name": "python",
   "nbconvert_exporter": "python",
   "pygments_lexer": "ipython3",
   "version": "3.10.8"
  },
  "orig_nbformat": 4
 },
 "nbformat": 4,
 "nbformat_minor": 2
}
