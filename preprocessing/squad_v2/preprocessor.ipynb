{
 "cells": [
  {
   "cell_type": "code",
   "execution_count": 2,
   "metadata": {},
   "outputs": [
    {
     "name": "stdout",
     "output_type": "stream",
     "text": [
      "Note: you may need to restart the kernel to use updated packages.\n",
      "Note: you may need to restart the kernel to use updated packages.\n",
      "Note: you may need to restart the kernel to use updated packages.\n"
     ]
    }
   ],
   "source": [
    "%pip install pandas -q\n",
    "%pip install datasets -q\n",
    "%pip install transformers -q"
   ]
  },
  {
   "cell_type": "code",
   "execution_count": 1,
   "metadata": {},
   "outputs": [
    {
     "name": "stderr",
     "output_type": "stream",
     "text": [
      "/Users/philiphyltoft/miniconda3/envs/hg_training/lib/python3.10/site-packages/tqdm/auto.py:22: TqdmWarning: IProgress not found. Please update jupyter and ipywidgets. See https://ipywidgets.readthedocs.io/en/stable/user_install.html\n",
      "  from .autonotebook import tqdm as notebook_tqdm\n",
      "Found cached dataset squad_v2 (/Users/philiphyltoft/.cache/huggingface/datasets/squad_v2/squad_v2/2.0.0/09187c73c1b837c95d9a249cd97c2c3f1cebada06efe667b4427714b27639b1d)\n",
      "100%|██████████| 2/2 [00:00<00:00, 57.62it/s]\n"
     ]
    }
   ],
   "source": [
    "# %load_ext autoreload\n",
    "# %autoreload 2\n",
    "\n",
    "from datasets import load_dataset\n",
    "import pandas as pd\n",
    "\n",
    "dataset = load_dataset(\"squad_v2\")\n",
    "df_train = pd.DataFrame(dataset['train'])\n",
    "df_validate = pd.DataFrame(dataset['validation'])"
   ]
  },
  {
   "cell_type": "code",
   "execution_count": null,
   "metadata": {},
   "outputs": [],
   "source": [
    "df_train.head()"
   ]
  },
  {
   "cell_type": "code",
   "execution_count": 25,
   "metadata": {},
   "outputs": [
    {
     "name": "stdout",
     "output_type": "stream",
     "text": [
      "                              id      title  \\\n",
      "0       56be85543aeaaa14008c9063    Beyoncé   \n",
      "1       56be85543aeaaa14008c9065    Beyoncé   \n",
      "2       56be85543aeaaa14008c9066    Beyoncé   \n",
      "3       56bf6b0f3aeaaa14008c9601    Beyoncé   \n",
      "4       56bf6b0f3aeaaa14008c9602    Beyoncé   \n",
      "...                          ...        ...   \n",
      "130046  5735d259012e2f140011a09d  Kathmandu   \n",
      "130047  5735d259012e2f140011a09e  Kathmandu   \n",
      "130048  5735d259012e2f140011a09f  Kathmandu   \n",
      "130049  5735d259012e2f140011a0a0  Kathmandu   \n",
      "130050  5735d259012e2f140011a0a1  Kathmandu   \n",
      "\n",
      "                                                  context  \\\n",
      "0       Beyoncé Giselle Knowles-Carter (/biːˈjɒnseɪ/ b...   \n",
      "1       Beyoncé Giselle Knowles-Carter (/biːˈjɒnseɪ/ b...   \n",
      "2       Beyoncé Giselle Knowles-Carter (/biːˈjɒnseɪ/ b...   \n",
      "3       Beyoncé Giselle Knowles-Carter (/biːˈjɒnseɪ/ b...   \n",
      "4       Beyoncé Giselle Knowles-Carter (/biːˈjɒnseɪ/ b...   \n",
      "...                                                   ...   \n",
      "130046  Kathmandu Metropolitan City (KMC), in order to...   \n",
      "130047  Kathmandu Metropolitan City (KMC), in order to...   \n",
      "130048  Kathmandu Metropolitan City (KMC), in order to...   \n",
      "130049  Kathmandu Metropolitan City (KMC), in order to...   \n",
      "130050  Kathmandu Metropolitan City (KMC), in order to...   \n",
      "\n",
      "                                                 question  \\\n",
      "0                When did Beyonce start becoming popular?   \n",
      "1       What areas did Beyonce compete in when she was...   \n",
      "2       When did Beyonce leave Destiny's Child and bec...   \n",
      "3           In what city and state did Beyonce  grow up?    \n",
      "4              In which decade did Beyonce become famous?   \n",
      "...                                                   ...   \n",
      "130046  In what US state did Kathmandu first establish...   \n",
      "130047               What was Yangon previously known as?   \n",
      "130048  With what Belorussian city does Kathmandu have...   \n",
      "130049  In what year did Kathmandu create its initial ...   \n",
      "130050                      What is KMC an initialism of?   \n",
      "\n",
      "                                                  answers  \n",
      "0       {'text': ['in the late 1990s'], 'answer_start'...  \n",
      "1       {'text': ['singing and dancing'], 'answer_star...  \n",
      "2               {'text': ['2003'], 'answer_start': [526]}  \n",
      "3       {'text': ['Houston, Texas'], 'answer_start': [...  \n",
      "4         {'text': ['late 1990s'], 'answer_start': [276]}  \n",
      "...                                                   ...  \n",
      "130046        {'text': ['Oregon'], 'answer_start': [229]}  \n",
      "130047       {'text': ['Rangoon'], 'answer_start': [414]}  \n",
      "130048         {'text': ['Minsk'], 'answer_start': [476]}  \n",
      "130049          {'text': ['1975'], 'answer_start': [199]}  \n",
      "130050  {'text': ['Kathmandu Metropolitan City'], 'ans...  \n",
      "\n",
      "[86821 rows x 5 columns]\n"
     ]
    }
   ],
   "source": [
    "df = df_train.loc[df_train['answers'].apply(lambda x: len(x.get('text', '')) > 0)]\n",
    "\n",
    "df = df[[\"context\", \"question\"]]\n",
    "\n",
    "# apply(list) is used to convert the list of questions into a list of strings instead of a list of lists\n",
    "# reset_index() is used to convert the index into a column\n",
    "df = df.groupby(\"context\")['question'].apply(list).reset_index()\n",
    "\n",
    "# remove '\\n' and spaces from the context column\n",
    "df['context'] = df['context'].apply(lambda x: x.replace('\\n', ' ').strip())\n",
    "\n",
    "# Change column name from question to questions\n",
    "df.rename(columns={'question': 'questions'}, inplace=True)\n",
    "\n",
    "df"
   ]
  },
  {
   "cell_type": "code",
   "execution_count": null,
   "metadata": {},
   "outputs": [],
   "source": []
  },
  {
   "cell_type": "code",
   "execution_count": null,
   "metadata": {},
   "outputs": [],
   "source": []
  }
 ],
 "metadata": {
  "kernelspec": {
   "display_name": "hg_training",
   "language": "python",
   "name": "python3"
  },
  "language_info": {
   "codemirror_mode": {
    "name": "ipython",
    "version": 3
   },
   "file_extension": ".py",
   "mimetype": "text/x-python",
   "name": "python",
   "nbconvert_exporter": "python",
   "pygments_lexer": "ipython3",
   "version": "3.10.8"
  },
  "orig_nbformat": 4
 },
 "nbformat": 4,
 "nbformat_minor": 2
}
