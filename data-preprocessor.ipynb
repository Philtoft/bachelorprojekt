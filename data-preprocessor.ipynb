{
 "cells": [
  {
   "attachments": {},
   "cell_type": "markdown",
   "metadata": {},
   "source": [
    "First, we convert the original SQuAD V2.0 dataset to our own format"
   ]
  },
  {
   "cell_type": "code",
   "execution_count": 2,
   "metadata": {},
   "outputs": [
    {
     "name": "stdout",
     "output_type": "stream",
     "text": [
      "The autoreload extension is already loaded. To reload it, use:\n",
      "  %reload_ext autoreload\n"
     ]
    },
    {
     "name": "stderr",
     "output_type": "stream",
     "text": [
      "Found cached dataset squad_v2 (/home/laugu/.cache/huggingface/datasets/squad_v2/squad_v2/2.0.0/09187c73c1b837c95d9a249cd97c2c3f1cebada06efe667b4427714b27639b1d)\n",
      "100%|██████████| 2/2 [00:00<00:00, 166.32it/s]\n"
     ]
    }
   ],
   "source": [
    "%load_ext autoreload\n",
    "%autoreload 2\n",
    "\n",
    "from preprocessing.squad_v2.squad_converter import convert_and_save_squad_v2\n",
    "convert_and_save_squad_v2()"
   ]
  },
  {
   "attachments": {},
   "cell_type": "markdown",
   "metadata": {},
   "source": [
    "We can also load our converted dataset from the Hugging Face hub and preprocess it with our custom preprocessor."
   ]
  },
  {
   "cell_type": "code",
   "execution_count": 4,
   "metadata": {},
   "outputs": [
    {
     "name": "stdout",
     "output_type": "stream",
     "text": [
      "The autoreload extension is already loaded. To reload it, use:\n",
      "  %reload_ext autoreload\n",
      "Token is valid.\n"
     ]
    },
    {
     "name": "stderr",
     "output_type": "stream",
     "text": [
      "Found cached dataset squad_v2_processor (/home/laugu/.cache/huggingface/datasets/squad_v2_processor/plain_text/1.0.0/a9a256385613af477a8b4fb9aaa91368f1d8b3c5f9d5f4ed12f9f8e94ed45a72)\n"
     ]
    },
    {
     "name": "stdout",
     "output_type": "stream",
     "text": [
      "Your token has been saved in your configured git credential helpers (/mnt/c/Program\\).\n",
      "Your token has been saved to /home/laugu/.cache/huggingface/token\n",
      "Login successful\n"
     ]
    },
    {
     "name": "stderr",
     "output_type": "stream",
     "text": [
      "100%|██████████| 2/2 [00:00<00:00, 406.72it/s]\n"
     ]
    }
   ],
   "source": [
    "%load_ext autoreload\n",
    "%autoreload 2\n",
    "\n",
    "from huggingface_hub import login\n",
    "from datasets import load_dataset\n",
    "\n",
    "with open(\".local/hg_token.txt\", \"r\") as file:\n",
    "        token = file.read()\n",
    "\n",
    "login(token, add_to_git_credential=True)\n",
    "\n",
    "squad = load_dataset(\"preprocessing/squad_v2/squad_v2_processor.py\", use_auth_token=True)"
   ]
  },
  {
   "cell_type": "code",
   "execution_count": 6,
   "metadata": {},
   "outputs": [
    {
     "data": {
      "text/plain": [
       "DatasetDict({\n",
       "    train: Dataset({\n",
       "        features: ['context', 'questions'],\n",
       "        num_rows: 19029\n",
       "    })\n",
       "    validation: Dataset({\n",
       "        features: ['context', 'questions'],\n",
       "        num_rows: 1204\n",
       "    })\n",
       "})"
      ]
     },
     "execution_count": 6,
     "metadata": {},
     "output_type": "execute_result"
    }
   ],
   "source": [
    "squad"
   ]
  },
  {
   "attachments": {},
   "cell_type": "markdown",
   "metadata": {},
   "source": [
    "As the last thing, we can make our Preprocessor class do the work for us by generating a train and validation file of our custom dataset for the `QG` model to use for training."
   ]
  },
  {
   "cell_type": "code",
   "execution_count": 8,
   "metadata": {},
   "outputs": [
    {
     "name": "stdout",
     "output_type": "stream",
     "text": [
      "The autoreload extension is already loaded. To reload it, use:\n",
      "  %reload_ext autoreload\n"
     ]
    },
    {
     "name": "stderr",
     "output_type": "stream",
     "text": [
      "Downloading SQuAD V2.0 dataset...\n",
      "Found cached dataset squad_v2_processor (/home/laugu/.cache/huggingface/datasets/squad_v2_processor/plain_text/1.0.0/a9a256385613af477a8b4fb9aaa91368f1d8b3c5f9d5f4ed12f9f8e94ed45a72)\n",
      "100%|██████████| 2/2 [00:00<00:00, 381.91it/s]\n",
      "Download complete.\n",
      "Preprocessing SQuAD dataset (1/3)\n",
      "Loading cached processed dataset at /home/laugu/.cache/huggingface/datasets/squad_v2_processor/plain_text/1.0.0/a9a256385613af477a8b4fb9aaa91368f1d8b3c5f9d5f4ed12f9f8e94ed45a72/cache-8abd893ae9a06591.arrow\n",
      "Loading cached processed dataset at /home/laugu/.cache/huggingface/datasets/squad_v2_processor/plain_text/1.0.0/a9a256385613af477a8b4fb9aaa91368f1d8b3c5f9d5f4ed12f9f8e94ed45a72/cache-bb3d54eb21d22fd9.arrow\n",
      "Preprocessing SQuAD dataset (2/3)\n",
      "Loading cached processed dataset at /home/laugu/.cache/huggingface/datasets/squad_v2_processor/plain_text/1.0.0/a9a256385613af477a8b4fb9aaa91368f1d8b3c5f9d5f4ed12f9f8e94ed45a72/cache-4999cc9efd2c05a3.arrow\n",
      "Loading cached processed dataset at /home/laugu/.cache/huggingface/datasets/squad_v2_processor/plain_text/1.0.0/a9a256385613af477a8b4fb9aaa91368f1d8b3c5f9d5f4ed12f9f8e94ed45a72/cache-7b752a03091a44c5.arrow\n",
      "Preprocessing SQuAD dataset (3/3)\n",
      "Loading cached processed dataset at /home/laugu/.cache/huggingface/datasets/squad_v2_processor/plain_text/1.0.0/a9a256385613af477a8b4fb9aaa91368f1d8b3c5f9d5f4ed12f9f8e94ed45a72/cache-a7a8f383fdeb87ab.arrow\n",
      "Done.                                                            \n",
      "Saving processed dataset to directory 'data/'...\n",
      "Successfully saved processed datasets.\n"
     ]
    }
   ],
   "source": [
    "%load_ext autoreload\n",
    "%autoreload 2\n",
    "\n",
    "from preprocessing.preprocessor import SquadPreprocessor\n",
    "from models.qg import QG\n",
    "\n",
    "qg = QG(\"t5-small\", \"t5-small\")\n",
    "\n",
    "p = SquadPreprocessor(qg._model, qg._tokenizer)\n",
    "p.preprocess_dataset()"
   ]
  }
 ],
 "metadata": {
  "kernelspec": {
   "display_name": "hg_training",
   "language": "python",
   "name": "python3"
  },
  "language_info": {
   "codemirror_mode": {
    "name": "ipython",
    "version": 3
   },
   "file_extension": ".py",
   "mimetype": "text/x-python",
   "name": "python",
   "nbconvert_exporter": "python",
   "pygments_lexer": "ipython3",
   "version": "3.10.9"
  },
  "orig_nbformat": 4
 },
 "nbformat": 4,
 "nbformat_minor": 2
}
