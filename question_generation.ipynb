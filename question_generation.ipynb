{
 "cells": [
  {
   "cell_type": "code",
   "execution_count": 54,
   "metadata": {},
   "outputs": [],
   "source": [
    "from pipelines import pipeline\n",
    "!pip install sentencepiece -q"
   ]
  },
  {
   "cell_type": "code",
   "execution_count": 55,
   "metadata": {},
   "outputs": [],
   "source": [
    "nlp = pipeline()"
   ]
  },
  {
   "cell_type": "code",
   "execution_count": 69,
   "metadata": {},
   "outputs": [],
   "source": [
    "from transformers import pipeline as pl\n",
    "answering = pl(\"question-answering\", model='distilbert-base-cased-distilled-squad', max_lengtt=512)"
   ]
  },
  {
   "cell_type": "code",
   "execution_count": 85,
   "metadata": {
    "tags": []
   },
   "outputs": [
    {
     "name": "stderr",
     "output_type": "stream",
     "text": [
      "/Users/philiphyltoft/miniconda3/envs/hg_training/lib/python3.10/site-packages/transformers/generation/utils.py:1273: UserWarning: Neither `max_length` nor `max_new_tokens` has been set, `max_length` will default to 20 (`generation_config.max_length`). Controlling `max_length` via the config is deprecated and `max_length` will be removed from the config in v5 of Transformers -- we recommend using `max_new_tokens` to control the maximum length of the generation.\n",
      "  warnings.warn(\n"
     ]
    },
    {
     "name": "stdout",
     "output_type": "stream",
     "text": [
      "['What branch of biology is dedicated to all aspects of animal life?', 'What do people who love animals want to know about?', 'What is a growing subject of study as our awareness of environmental issues grows?', 'What is the name of the company that produces the most money?']\n"
     ]
    }
   ],
   "source": [
    "text = \"\"\"Zoology is the branch of Biology dedicated to all aspects of animal life – from anatomy and physiology, to evolution and husbandry. It is a subject for those who love animals and those who want to understand how the natural world works. As our awareness of environmental issues grows, and as our governments shift their priorities towards protecting and conserving the environment and wildlife, so will Zoology be an increasingly worthwhile subject to study.\"\"\"\n",
    "questions = []\n",
    "\n",
    "for sentence in text.split(\".\"):\n",
    "    questions.append(*nlp(sentence))\n",
    "\n",
    "print(questions)"
   ]
  },
  {
   "cell_type": "code",
   "execution_count": 88,
   "metadata": {},
   "outputs": [
    {
     "name": "stdout",
     "output_type": "stream",
     "text": [
      "{'What branch of biology is dedicated to all aspects of animal life?': {'answer': 'Zoology', 'score': 0.9825060367584229}, 'What do people who love animals want to know about?': {'answer': 'how the natural world works', 'score': 0.6444739103317261}, 'What is a growing subject of study as our awareness of environmental issues grows?': {'answer': 'Zoology', 'score': 0.8608337640762329}, 'What is the name of the company that produces the most money?': {'answer': 'Zoology', 'score': 0.9538061022758484}}\n"
     ]
    }
   ],
   "source": [
    "questions_answers = {}\n",
    "for question in questions:\n",
    "    answer = answering(context=text, question=question)\n",
    "    if (answer['score'] > 0.5):\n",
    "        questions_answers[question] = { 'answer': answer['answer'], 'score': answer['score'] }\n",
    "print(questions_answers)"
   ]
  },
  {
   "cell_type": "code",
   "execution_count": null,
   "metadata": {},
   "outputs": [],
   "source": []
  }
 ],
 "metadata": {
  "kernelspec": {
   "display_name": "Python 3 (ipykernel)",
   "language": "python",
   "name": "python3"
  },
  "language_info": {
   "codemirror_mode": {
    "name": "ipython",
    "version": 3
   },
   "file_extension": ".py",
   "mimetype": "text/x-python",
   "name": "python",
   "nbconvert_exporter": "python",
   "pygments_lexer": "ipython3",
   "version": "3.10.8"
  },
  "vscode": {
   "interpreter": {
    "hash": "5c7b89af1651d0b8571dde13640ecdccf7d5a6204171d6ab33e7c296e100e08a"
   }
  }
 },
 "nbformat": 4,
 "nbformat_minor": 4
}
