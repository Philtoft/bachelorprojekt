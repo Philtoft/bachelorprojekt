{
 "cells": [
  {
   "attachments": {},
   "cell_type": "markdown",
   "metadata": {},
   "source": [
    "# QGAR - Question Generation Answering RRR\n",
    "\n",
    "This notebook shows how to load and use the `QGAR` system.\n",
    "\n",
    "Please read the [README](./README.md) before continuing!\n",
    "\n",
    "---\n",
    "\n",
    "**Table of Contents**\n",
    "\n",
    "* [0. Dependencies](#0-dependencies)\n",
    "* [1. The QGAR Application](#1-the-qgar-application)\n",
    "\n",
    "---"
   ]
  },
  {
   "attachments": {},
   "cell_type": "markdown",
   "metadata": {},
   "source": [
    "## 0. Dependencies\n",
    "\n",
    "Install the following dependencies in your `Virtual Environment`:"
   ]
  },
  {
   "cell_type": "code",
   "execution_count": null,
   "metadata": {},
   "outputs": [],
   "source": [
    "%pip install beautifulsoup4 -q\n",
    "%pip install datasets -q\n",
    "%pip install huggingface_hub -q\n",
    "%pip install Markdown -q\n",
    "%pip install pandas -q\n",
    "%pip install torch torchvision torchaudio --index-url https://download.pytorch.org/whl/cu118 -q\n",
    "%pip install transformers -q\n",
    "%pip install wandb  -q"
   ]
  },
  {
   "attachments": {},
   "cell_type": "markdown",
   "metadata": {},
   "source": [
    "## 1. The QGAR Application\n",
    "\n",
    "`QGAR` is used to generate questions and answers from provided contexts.\n",
    "\n",
    "First, we instantiate a `QGAR` object:"
   ]
  },
  {
   "cell_type": "code",
   "execution_count": null,
   "metadata": {},
   "outputs": [],
   "source": [
    "%load_ext autoreload\n",
    "%autoreload 2\n",
    "\n",
    "from models.qgar import QGAR\n",
    "from models.qg import QG\n",
    "\n",
    "qg = QG(\"the-coorporation/t5-base-qg-2.0\", \"the-coorporation/t5-base-qg-2.0\")\n",
    "qgar = QGAR(qg, \"distilbert-base-uncased-distilled-squad\")"
   ]
  },
  {
   "attachments": {},
   "cell_type": "markdown",
   "metadata": {},
   "source": [
    "Now we can use `QGAR`'s `__call__` method to generate QGAs.\n",
    "\n",
    "For this we need some notes which should be located in the `data` directory.\n",
    "\n",
    "In this directory we create a subdirectory and upload a note file in either `HTML` or `Markdown`.\n",
    "\n",
    "For this example, we will use the directory `Theis` with a markdown file called `Theis.md`."
   ]
  },
  {
   "cell_type": "code",
   "execution_count": null,
   "metadata": {},
   "outputs": [],
   "source": [
    "qgar(\"Theis\")"
   ]
  }
 ],
 "metadata": {
  "kernelspec": {
   "display_name": "hugging",
   "language": "python",
   "name": "python3"
  },
  "language_info": {
   "codemirror_mode": {
    "name": "ipython",
    "version": 3
   },
   "file_extension": ".py",
   "mimetype": "text/x-python",
   "name": "python",
   "nbconvert_exporter": "python",
   "pygments_lexer": "ipython3",
   "version": "3.10.9"
  },
  "orig_nbformat": 4
 },
 "nbformat": 4,
 "nbformat_minor": 2
}
