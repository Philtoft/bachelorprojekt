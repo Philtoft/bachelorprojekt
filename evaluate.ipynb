{
 "cells": [
  {
   "cell_type": "code",
   "execution_count": 1,
   "metadata": {},
   "outputs": [
    {
     "name": "stderr",
     "output_type": "stream",
     "text": [
      "/Users/philiphyltoft/miniconda3/envs/hg_training/lib/python3.10/site-packages/tqdm/auto.py:22: TqdmWarning: IProgress not found. Please update jupyter and ipywidgets. See https://ipywidgets.readthedocs.io/en/stable/user_install.html\n",
      "  from .autonotebook import tqdm as notebook_tqdm\n"
     ]
    }
   ],
   "source": [
    "from evaluate import load\n",
    "from evaluate.module import EvaluationModule\n",
    "from datasets import load_dataset, Dataset\n",
    "from models.qg import QG\n",
    "import torch\n",
    "\n",
    "qg = QG(\"the-coorporation/t5-small-qg-2.0\", \"the-coorporation/t5-small-qg-2.0\")"
   ]
  },
  {
   "attachments": {},
   "cell_type": "markdown",
   "metadata": {},
   "source": [
    "## BLEU"
   ]
  },
  {
   "cell_type": "code",
   "execution_count": 2,
   "metadata": {},
   "outputs": [],
   "source": [
    "bleu: EvaluationModule = load(\"bleu\")"
   ]
  },
  {
   "attachments": {},
   "cell_type": "markdown",
   "metadata": {},
   "source": [
    "## METEOR"
   ]
  },
  {
   "cell_type": "code",
   "execution_count": 3,
   "metadata": {},
   "outputs": [
    {
     "name": "stderr",
     "output_type": "stream",
     "text": [
      "[nltk_data] Downloading package wordnet to\n",
      "[nltk_data]     /Users/philiphyltoft/nltk_data...\n",
      "[nltk_data]   Package wordnet is already up-to-date!\n",
      "[nltk_data] Downloading package punkt to\n",
      "[nltk_data]     /Users/philiphyltoft/nltk_data...\n",
      "[nltk_data]   Package punkt is already up-to-date!\n",
      "[nltk_data] Downloading package omw-1.4 to\n",
      "[nltk_data]     /Users/philiphyltoft/nltk_data...\n",
      "[nltk_data]   Package omw-1.4 is already up-to-date!\n"
     ]
    }
   ],
   "source": [
    "meteor: EvaluationModule = load(\"meteor\")"
   ]
  },
  {
   "cell_type": "code",
   "execution_count": 4,
   "metadata": {},
   "outputs": [
    {
     "name": "stderr",
     "output_type": "stream",
     "text": [
      "No config specified, defaulting to: the_squad_qg/v2\n",
      "Found cached dataset the_squad_qg (/Users/philiphyltoft/.cache/huggingface/datasets/the-coorporation___the_squad_qg/v2/2.0.0/cd5e3386e9e3124c24114539fb5124093fa58d99c1a7292451b8801a94a2aca5)\n",
      "100%|██████████| 2/2 [00:00<00:00, 137.66it/s]\n"
     ]
    },
    {
     "data": {
      "text/plain": [
       "Dataset({\n",
       "    features: ['context', 'questions'],\n",
       "    num_rows: 1204\n",
       "})"
      ]
     },
     "execution_count": 4,
     "metadata": {},
     "output_type": "execute_result"
    }
   ],
   "source": [
    "squad: Dataset = load_dataset(\"the-coorporation/the_squad_qg\")\n",
    "validation = squad['validation']\n",
    "validation"
   ]
  },
  {
   "cell_type": "code",
   "execution_count": 20,
   "metadata": {},
   "outputs": [],
   "source": [
    "references: list[dict] = [entry['questions'].replace(\" {sep_token}\", \"\") for entry in validation]\n",
    "\n",
    "predictions: list[dict] = []\n",
    "\n",
    "device = \"cuda\" if torch.cuda.is_available() else \"cpu\"\n",
    "\n",
    "generator_args = {\n",
    "    \"max_length\": 512,\n",
    "    \"num_beams\": 4,\n",
    "    \"length_penalty\": 1.5,\n",
    "    \"no_repeat_ngram_size\": 3,\n",
    "    \"early_stopping\": True,\n",
    "}\n",
    "\n",
    "for i, entry in enumerate(validation):\n",
    "    # if i == 1000:\n",
    "    #     break\n",
    "    \n",
    "    context: str = entry['context']\n",
    "    input_string = \"generate questions: \" + context + \" </s>\"\n",
    "\n",
    "    input_ids = qg._tokenizer.encode(input_string, return_tensors=\"pt\").to(device)\n",
    "    result = qg._model.generate(input_ids, **generator_args).to(device)\n",
    "    questions = qg._tokenizer.decode(result[0], skip_special_tokens=True)\n",
    "    questions = questions.replace(\"<sep>\", \"\")\n",
    "    predictions.append(questions)"
   ]
  },
  {
   "cell_type": "code",
   "execution_count": 17,
   "metadata": {},
   "outputs": [
    {
     "name": "stdout",
     "output_type": "stream",
     "text": [
      "Geographically speaking, where is California's north - south midway point in terms of latitude? How many miles south of San Jose is the north - south midway point located? The term \"southern\" California usually refers to how many of the southern-most counties of the state? Other than Point Conception, what landmark is used in the other definition of southern California? Point Conception is an example of a landmark among what boundary of southern California?\n",
      "What is Southern California not a formal geographic designation? What is the north-south midway point of California? When California is divided into two areas, the term \"southern California\" usually refers to what?\n"
     ]
    }
   ],
   "source": [
    "# print(len(references[:5]))\n",
    "# print(len(predictions))\n",
    "\n",
    "print(references[0])\n",
    "print(predictions[0])"
   ]
  },
  {
   "cell_type": "code",
   "execution_count": 16,
   "metadata": {},
   "outputs": [
    {
     "data": {
      "text/plain": [
       "{'bleu': 0.1590160494240242,\n",
       " 'precisions': [0.48936170212765956,\n",
       "  0.21660649819494585,\n",
       "  0.125,\n",
       "  0.0749063670411985],\n",
       " 'brevity_penalty': 0.8958976718854088,\n",
       " 'length_ratio': 0.9009584664536742,\n",
       " 'translation_length': 282,\n",
       " 'reference_length': 313}"
      ]
     },
     "execution_count": 16,
     "metadata": {},
     "output_type": "execute_result"
    }
   ],
   "source": [
    "bleu.compute(references=references[:5], predictions=predictions)"
   ]
  },
  {
   "cell_type": "code",
   "execution_count": null,
   "metadata": {},
   "outputs": [],
   "source": [
    "meteor.compute(references=references[:5], predictions=predictions)"
   ]
  }
 ],
 "metadata": {
  "kernelspec": {
   "display_name": "hg_training",
   "language": "python",
   "name": "python3"
  },
  "language_info": {
   "codemirror_mode": {
    "name": "ipython",
    "version": 3
   },
   "file_extension": ".py",
   "mimetype": "text/x-python",
   "name": "python",
   "nbconvert_exporter": "python",
   "pygments_lexer": "ipython3",
   "version": "3.10.8"
  },
  "orig_nbformat": 4
 },
 "nbformat": 4,
 "nbformat_minor": 2
}
