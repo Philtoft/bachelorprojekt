{
 "cells": [
  {
   "attachments": {},
   "cell_type": "markdown",
   "metadata": {},
   "source": [
    "# Preprocessing Notebook\n",
    "\n",
    "This Notebook illustrates how to use our `preprocessing` library.\n",
    "\n",
    "We will show how to:\n",
    "* Modify the original `SQuAD` 1.1 and 2.0 datasets to convert it to a `Question Generation` format\n",
    "* Download our modified `SQuAD` dataset from the hub\n",
    "* Preprocess and save our modified dataset to use it for training\n",
    "\n",
    "---\n",
    "\n",
    "**Table of Contents**\n",
    "\n",
    "0. [Install Dependencies](#install-dependencies)\n",
    "1. [Create custom SQuAD dataset in json format](#create-custom-squad-dataset-in-json-format)\n",
    "2. [Download our dataset from Hugginface](#download-our-dataset-from-huggingface)\n",
    "3. [Preprocess our dataset to be used for training](#preprocess-our-dataset-to-be-used-for-training)\n",
    "\n",
    "---"
   ]
  },
  {
   "attachments": {},
   "cell_type": "markdown",
   "metadata": {},
   "source": [
    "## 0. Install Dependencies\n",
    "\n",
    "First install the required libraries:"
   ]
  },
  {
   "cell_type": "code",
   "execution_count": null,
   "metadata": {},
   "outputs": [],
   "source": [
    "%pip install pandas -q\n",
    "%pip install datasets -q\n",
    "%pip install transformers -q"
   ]
  },
  {
   "attachments": {},
   "cell_type": "markdown",
   "metadata": {},
   "source": [
    "## 1. Create custom SQuAD dataset in json format\n",
    "\n",
    "We will create 4 files:\n",
    "* `squad_v1_train`\n",
    "* `squad_v1_validation`\n",
    "* `squad_v2_train`\n",
    "* `squad_v2_validation`\n",
    "\n",
    "These are also available in our dataset repository on `huggingface.com` under `the-coorporation/the_squad`."
   ]
  },
  {
   "cell_type": "code",
   "execution_count": null,
   "metadata": {},
   "outputs": [],
   "source": [
    "%load_ext autoreload\n",
    "%autoreload 2\n",
    "\n",
    "from preprocessing.squad_converter import SquadVersion, convert_and_save_squad\n",
    "convert_and_save_squad(SquadVersion.V1, \"./data/squad\")\n",
    "convert_and_save_squad(SquadVersion.V2, \"./data/squad\")"
   ]
  },
  {
   "attachments": {},
   "cell_type": "markdown",
   "metadata": {},
   "source": [
    "They can also be created and returned in memory:"
   ]
  },
  {
   "cell_type": "code",
   "execution_count": null,
   "metadata": {},
   "outputs": [],
   "source": [
    "%load_ext autoreload\n",
    "%autoreload 2\n",
    "\n",
    "from preprocessing.squad_converter import SquadVersion, convert_squad\n",
    "squad_v1_train, squad_v1_validation = convert_squad(SquadVersion.V1)\n",
    "squad_v2_train, squad_v2_validation = convert_squad(SquadVersion.V2)"
   ]
  },
  {
   "attachments": {},
   "cell_type": "markdown",
   "metadata": {},
   "source": [
    "## 2. Download our Dataset from Huggingface\n",
    "\n",
    "We can now download either SQuAD 1.1 or 2.0 from our organization.\n",
    "\n",
    "The version is specified with the `name` argument. If no argument is provided `v2` will be loaded."
   ]
  },
  {
   "cell_type": "code",
   "execution_count": null,
   "metadata": {},
   "outputs": [],
   "source": [
    "%load_ext autoreload\n",
    "%autoreload 2\n",
    "\n",
    "from datasets import load_dataset\n",
    "squad_v1 = load_dataset(\"the-coorporation/the_squad_qg\", name=\"v1\")\n",
    "squad_v2 = load_dataset(\"the-coorporation/the_squad_qg\")"
   ]
  },
  {
   "cell_type": "code",
   "execution_count": null,
   "metadata": {},
   "outputs": [],
   "source": [
    "print(f\"V1: {squad_v1}\")\n",
    "print(f\"V2: {squad_v2}\")"
   ]
  },
  {
   "attachments": {},
   "cell_type": "markdown",
   "metadata": {},
   "source": [
    "## 3. Preprocess our dataset to be used for training\n",
    "\n",
    "To preprocess and save our modified `SQuAD` dataset locally, we use the `SquadPreprocessor`.\n",
    "\n",
    "It needs a `tokenizer`, which we get from the `QG` model. By setting `padding` to `False`, we don't add any padding tokens to our dataset entries. Generally, we want to benefit from `Dynamic Padding`, therefore, a `Data Collator` will be responsible for adding padding instead.\n",
    "\n",
    "The `SquadProcessor` will download and preprocess the modified `SQuAD` dataset by adding separator (`<sep>`), `end of sequence tokens` (`<\\s>`) and encode both `contexts` and `questions` for each entry in the dataset. It will also save two files on disk:\n",
    "\n",
    "* `training_data.pt`\n",
    "* `validation_data.pt`\n",
    "\n",
    "We will load these files when we want to train the `QG` model."
   ]
  },
  {
   "cell_type": "code",
   "execution_count": null,
   "metadata": {},
   "outputs": [],
   "source": [
    "%load_ext autoreload\n",
    "%autoreload 2\n",
    "\n",
    "from models.qg import QG\n",
    "from preprocessing.squad_preprocessor import SquadPreprocessor\n",
    "\n",
    "qg = QG(\"t5-small\", \"t5-small\")\n",
    "processor = SquadPreprocessor(qg._tokenizer, padding=False)\n",
    "processor.preprocess_and_save(\"the-coorporation/the_squad_qg\", \"./data/\")"
   ]
  }
 ],
 "metadata": {
  "kernelspec": {
   "display_name": "hg_training",
   "language": "python",
   "name": "python3"
  },
  "language_info": {
   "codemirror_mode": {
    "name": "ipython",
    "version": 3
   },
   "file_extension": ".py",
   "mimetype": "text/x-python",
   "name": "python",
   "nbconvert_exporter": "python",
   "pygments_lexer": "ipython3",
   "version": "3.10.9"
  },
  "orig_nbformat": 4
 },
 "nbformat": 4,
 "nbformat_minor": 2
}
