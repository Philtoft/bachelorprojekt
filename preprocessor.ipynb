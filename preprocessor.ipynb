{
 "cells": [
  {
   "attachments": {},
   "cell_type": "markdown",
   "metadata": {},
   "source": [
    "# Preprocessing Notebook\n",
    "\n",
    "This Notebook illustrates how to use our `preprocessing` library.\n",
    "\n",
    "We will show how to:\n",
    "* Modify the original `SQuAD` 1.1 and 2.0 datasets to convert it to a `Question Generation` format\n",
    "* Download our modified `SQuAD` dataset from the hub\n",
    "* Preprocess and save our modified dataset to use it for training\n",
    "\n",
    "---\n",
    "\n",
    "**Table of Contents**\n",
    "\n",
    "0. [Install Dependencies](#install-dependencies)\n",
    "1. [Create custom SQuAD dataset in json format](#create-custom-squad-dataset-in-json-format)\n",
    "2. [Download our dataset from Hugginface](#download-our-dataset-from-huggingface)\n",
    "3. [Preprocess our dataset to be used for training](#preprocess-our-dataset-to-be-used-for-training)\n",
    "\n",
    "---"
   ]
  },
  {
   "attachments": {},
   "cell_type": "markdown",
   "metadata": {},
   "source": [
    "## 0. Install Dependencies\n",
    "\n",
    "First install the required libraries:"
   ]
  },
  {
   "cell_type": "code",
   "execution_count": null,
   "metadata": {},
   "outputs": [],
   "source": [
    "%pip install pandas -q\n",
    "%pip install datasets -q\n",
    "%pip install transformers -q"
   ]
  },
  {
   "attachments": {},
   "cell_type": "markdown",
   "metadata": {},
   "source": [
    "## 1. Create custom SQuAD dataset in json format\n",
    "\n",
    "We will create 4 files:\n",
    "* `squad_v1_train`\n",
    "* `squad_v1_validation`\n",
    "* `squad_v2_train`\n",
    "* `squad_v2_validation`\n",
    "\n",
    "These are also available in our dataset repository on `huggingface.com` under `the-coorporation/the_squad`."
   ]
  },
  {
   "cell_type": "code",
   "execution_count": null,
   "metadata": {},
   "outputs": [],
   "source": [
    "%load_ext autoreload\n",
    "%autoreload 2\n",
    "\n",
    "from preprocessing.squad_converter import SquadVersion, convert_and_save_squad\n",
    "convert_and_save_squad(SquadVersion.V1, \"./data/squad\")\n",
    "convert_and_save_squad(SquadVersion.V2, \"./data/squad\")"
   ]
  },
  {
   "attachments": {},
   "cell_type": "markdown",
   "metadata": {},
   "source": [
    "They can also be created and returned in memory:"
   ]
  },
  {
   "cell_type": "code",
   "execution_count": null,
   "metadata": {},
   "outputs": [],
   "source": [
    "%load_ext autoreload\n",
    "%autoreload 2\n",
    "\n",
    "from preprocessing.squad_converter import SquadVersion, convert_squad\n",
    "squad_v1_train, squad_v1_validation = convert_squad(SquadVersion.V1)\n",
    "squad_v2_train, squad_v2_validation = convert_squad(SquadVersion.V2)"
   ]
  },
  {
   "attachments": {},
   "cell_type": "markdown",
   "metadata": {},
   "source": [
    "## 2. Download our Dataset from Huggingface\n",
    "\n",
    "We can now download either SQuAD 1.1 or 2.0 from our organization.\n",
    "\n",
    "The version is specified with the `name` argument. If no argument is provided `v2` will be loaded."
   ]
  },
  {
   "cell_type": "code",
   "execution_count": null,
   "metadata": {},
   "outputs": [],
   "source": [
    "%load_ext autoreload\n",
    "%autoreload 2\n",
    "\n",
    "from datasets import load_dataset\n",
    "squad_v1 = load_dataset(\"the-coorporation/the_squad\", name=\"v1\")\n",
    "squad_v2 = load_dataset(\"the-coorporation/the_squad\")"
   ]
  },
  {
   "cell_type": "code",
   "execution_count": null,
   "metadata": {},
   "outputs": [],
   "source": [
    "print(f\"V1: {squad_v1}\")\n",
    "print(f\"V2: {squad_v2}\")"
   ]
  },
  {
   "attachments": {},
   "cell_type": "markdown",
   "metadata": {},
   "source": [
    "## 3. Preprocess our dataset to be used for training\n",
    "\n",
    "To preprocess and save our modified `SQuAD` dataset locally, we use the `SquadPreprocessor`.\n",
    "\n",
    "It needs a `tokenizer`, which we get from the `QG` model. By setting `padding` to `False`, we don't add any padding tokens to our dataset entries. Generally, we want to benefit from `Dynamic Padding`, therefore, a `Data Collator` will be responsible for adding padding instead.\n",
    "\n",
    "The `SquadPreprocessor` will save two files on disk:\n",
    "* `training_data.pt`\n",
    "* `validation_data.pt`\n",
    "\n",
    "We will load these files when we want to train the `QG` model."
   ]
  },
  {
   "cell_type": "code",
   "execution_count": 1,
   "metadata": {},
   "outputs": [
    {
     "data": {
      "application/vnd.jupyter.widget-view+json": {
       "model_id": "ac61adee86dc4356a54f5efc1142b69c",
       "version_major": 2,
       "version_minor": 0
      },
      "text/plain": [
       "Downloading builder script:   0%|          | 0.00/4.24k [00:00<?, ?B/s]"
      ]
     },
     "metadata": {},
     "output_type": "display_data"
    },
    {
     "data": {
      "application/vnd.jupyter.widget-view+json": {
       "model_id": "6dc66f58e1ae4f309256eb911c8e2d77",
       "version_major": 2,
       "version_minor": 0
      },
      "text/plain": [
       "Downloading readme:   0%|          | 0.00/629 [00:00<?, ?B/s]"
      ]
     },
     "metadata": {},
     "output_type": "display_data"
    },
    {
     "name": "stderr",
     "output_type": "stream",
     "text": [
      "No config specified, defaulting to: the_squad/v2\n"
     ]
    },
    {
     "name": "stdout",
     "output_type": "stream",
     "text": [
      "Downloading and preparing dataset the_squad/v2 (download: 23.04 MiB, generated: 20.74 MiB, post-processed: Unknown size, total: 43.78 MiB) to /home/laugu/.cache/huggingface/datasets/the-coorporation___the_squad/v2/2.0.0/5abe37fe976461f1fb98ecbcf3d45a991e2ec721fa49eb97da04d30718432bc5...\n"
     ]
    },
    {
     "data": {
      "application/vnd.jupyter.widget-view+json": {
       "model_id": "4d32cdd8bcb34cbea6b71ceee0dd6777",
       "version_major": 2,
       "version_minor": 0
      },
      "text/plain": [
       "Downloading data files:   0%|          | 0/2 [00:00<?, ?it/s]"
      ]
     },
     "metadata": {},
     "output_type": "display_data"
    },
    {
     "data": {
      "application/vnd.jupyter.widget-view+json": {
       "model_id": "a9e0de75901c4d7a9cc9401b80c7be1a",
       "version_major": 2,
       "version_minor": 0
      },
      "text/plain": [
       "Downloading data:   0%|          | 0.00/22.6M [00:00<?, ?B/s]"
      ]
     },
     "metadata": {},
     "output_type": "display_data"
    },
    {
     "data": {
      "application/vnd.jupyter.widget-view+json": {
       "model_id": "7c925f069eb14c83beb8d2b8a972fce3",
       "version_major": 2,
       "version_minor": 0
      },
      "text/plain": [
       "Downloading data:   0%|          | 0.00/1.56M [00:00<?, ?B/s]"
      ]
     },
     "metadata": {},
     "output_type": "display_data"
    },
    {
     "data": {
      "application/vnd.jupyter.widget-view+json": {
       "model_id": "bc7456425d9c41df9ff2a0a09b5f8a25",
       "version_major": 2,
       "version_minor": 0
      },
      "text/plain": [
       "Extracting data files:   0%|          | 0/2 [00:00<?, ?it/s]"
      ]
     },
     "metadata": {},
     "output_type": "display_data"
    },
    {
     "data": {
      "application/vnd.jupyter.widget-view+json": {
       "model_id": "a58993f9c9e944ff9ba00c0af51d3d17",
       "version_major": 2,
       "version_minor": 0
      },
      "text/plain": [
       "Generating train split:   0%|          | 0/18877 [00:00<?, ? examples/s]"
      ]
     },
     "metadata": {},
     "output_type": "display_data"
    },
    {
     "data": {
      "application/vnd.jupyter.widget-view+json": {
       "model_id": "2e2f1a530c434e249fc5da27112d8cbf",
       "version_major": 2,
       "version_minor": 0
      },
      "text/plain": [
       "Generating validation split:   0%|          | 0/1204 [00:00<?, ? examples/s]"
      ]
     },
     "metadata": {},
     "output_type": "display_data"
    },
    {
     "name": "stdout",
     "output_type": "stream",
     "text": [
      "Dataset the_squad downloaded and prepared to /home/laugu/.cache/huggingface/datasets/the-coorporation___the_squad/v2/2.0.0/5abe37fe976461f1fb98ecbcf3d45a991e2ec721fa49eb97da04d30718432bc5. Subsequent calls will reuse this data.\n"
     ]
    },
    {
     "data": {
      "application/vnd.jupyter.widget-view+json": {
       "model_id": "9020bf5979ce4cf9bd630b2c60a4e784",
       "version_major": 2,
       "version_minor": 0
      },
      "text/plain": [
       "  0%|          | 0/2 [00:00<?, ?it/s]"
      ]
     },
     "metadata": {},
     "output_type": "display_data"
    },
    {
     "data": {
      "application/vnd.jupyter.widget-view+json": {
       "model_id": "10bef51444cd4d0488fdf58d3a7ae880",
       "version_major": 2,
       "version_minor": 0
      },
      "text/plain": [
       "Map:   0%|          | 0/18877 [00:00<?, ? examples/s]"
      ]
     },
     "metadata": {},
     "output_type": "display_data"
    },
    {
     "data": {
      "application/vnd.jupyter.widget-view+json": {
       "model_id": "4646b81dfd2341228c14aa3ba7171aa7",
       "version_major": 2,
       "version_minor": 0
      },
      "text/plain": [
       "Map:   0%|          | 0/1204 [00:00<?, ? examples/s]"
      ]
     },
     "metadata": {},
     "output_type": "display_data"
    },
    {
     "data": {
      "application/vnd.jupyter.widget-view+json": {
       "model_id": "5e3a8d74f93f44e1a162f39ed9096734",
       "version_major": 2,
       "version_minor": 0
      },
      "text/plain": [
       "Map:   0%|          | 0/18877 [00:00<?, ? examples/s]"
      ]
     },
     "metadata": {},
     "output_type": "display_data"
    },
    {
     "data": {
      "application/vnd.jupyter.widget-view+json": {
       "model_id": "5ef6982c90f84fd0902b8a094bf81ed5",
       "version_major": 2,
       "version_minor": 0
      },
      "text/plain": [
       "Map:   0%|          | 0/1204 [00:00<?, ? examples/s]"
      ]
     },
     "metadata": {},
     "output_type": "display_data"
    },
    {
     "data": {
      "application/vnd.jupyter.widget-view+json": {
       "model_id": "10ceebd4f5bf4a4da422aa5709c1c9d3",
       "version_major": 2,
       "version_minor": 0
      },
      "text/plain": [
       "Map:   0%|          | 0/18877 [00:00<?, ? examples/s]"
      ]
     },
     "metadata": {},
     "output_type": "display_data"
    },
    {
     "data": {
      "application/vnd.jupyter.widget-view+json": {
       "model_id": "efcff2e8cbf746c6b0299c2b483513d2",
       "version_major": 2,
       "version_minor": 0
      },
      "text/plain": [
       "Map:   0%|          | 0/1204 [00:00<?, ? examples/s]"
      ]
     },
     "metadata": {},
     "output_type": "display_data"
    }
   ],
   "source": [
    "%load_ext autoreload\n",
    "%autoreload 2\n",
    "\n",
    "from models.qg import QG\n",
    "from preprocessing.squad_preprocessor import SquadPreprocessor\n",
    "\n",
    "qg = QG(\"t5-small\", \"t5-small\")\n",
    "processor = SquadPreprocessor(qg._tokenizer, padding=False)\n",
    "processor.preprocess_and_save(\"the-coorporation/the_squad\", \"./data/\")"
   ]
  }
 ],
 "metadata": {
  "kernelspec": {
   "display_name": "hg_training",
   "language": "python",
   "name": "python3"
  },
  "language_info": {
   "codemirror_mode": {
    "name": "ipython",
    "version": 3
   },
   "file_extension": ".py",
   "mimetype": "text/x-python",
   "name": "python",
   "nbconvert_exporter": "python",
   "pygments_lexer": "ipython3",
   "version": "3.10.9"
  },
  "orig_nbformat": 4
 },
 "nbformat": 4,
 "nbformat_minor": 2
}
